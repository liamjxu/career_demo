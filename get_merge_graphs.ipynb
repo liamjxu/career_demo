{
 "cells": [
  {
   "cell_type": "markdown",
   "metadata": {},
   "source": [
    "# Set Env Vars"
   ]
  },
  {
   "cell_type": "code",
   "execution_count": null,
   "metadata": {},
   "outputs": [],
   "source": [
    "import os\n",
    "\n",
    "def parse_and_set_env_vars(command):\n",
    "    # Splitting the command into individual assignments\n",
    "    assignments = command.replace(\"export \", \"\").split()\n",
    "    \n",
    "    for assignment in assignments:\n",
    "        # Splitting each assignment into variable and value\n",
    "        var, val = assignment.split('=', 1)\n",
    "        os.environ[var] = val\n",
    "        print(f\"Set {var}={val}\")\n",
    "\n",
    "command = '''OPENAI_API_KEY=<API_KEY>'''\n",
    "parse_and_set_env_vars(command)\n",
    "\n",
    "print(os.environ.get(\"OPENAI_API_KEY\"))"
   ]
  },
  {
   "cell_type": "code",
   "execution_count": null,
   "metadata": {},
   "outputs": [],
   "source": []
  },
  {
   "cell_type": "code",
   "execution_count": null,
   "metadata": {},
   "outputs": [],
   "source": []
  },
  {
   "cell_type": "markdown",
   "metadata": {},
   "source": [
    "# Get Questions"
   ]
  },
  {
   "cell_type": "markdown",
   "metadata": {},
   "source": [
    "## Parsing the typical tasks"
   ]
  },
  {
   "cell_type": "code",
   "execution_count": 40,
   "metadata": {},
   "outputs": [],
   "source": [
    "with open('typical_tasks.txt', 'r') as file:\n",
    "    data = file.read()"
   ]
  },
  {
   "cell_type": "code",
   "execution_count": 42,
   "metadata": {},
   "outputs": [
    {
     "name": "stdout",
     "output_type": "stream",
     "text": [
      "[{'Task': 'Curating a Career Plan ', 'Description': 'Given a current career path and user preferences for an end-goal occupation, can we automatically curate a career plan that arrives at the end-goal occupation, with intermediate steps?', 'Exemplar questions': \"I'm a first-year master's student at Stanford CS. I did previous research internships at Microsoft and Amazon on Large Language Models. I have previous publications at NLP conferences including EMNLP, NAACL, and ACL. If I want to eventually work for OpenAI as a research scientist, how should I plan my career path to maximize the probability of landing the job?\"}, {'Task': 'Suggesting Potential Occupations and Wage Projections', 'Description': \"Given a user's interests, can we suggest potential occupations for the user and cast e.g. the wage for those occupations?\", 'Exemplar Question': \"I'm passionate about environmental sustainability and have a background in environmental science. What are some emerging green jobs that align with my interests, and what can I expect in terms of salary and job growth in these areas?\"}, {'Task': 'Making Optimal Choices Among Alternatives', 'Description': 'Given a specific situation and a set of decision alternatives, how do we make optimal choices when given a set of alternatives in a decision?', 'Exemplar Question': \"I've received job offers from three different companies: Amazon AWS L4 SDE in Seattle, Meta Recommendation System E3 SDE in San Diego, and TikTok 1-2 MLE in New York. Considering my career goals of advancing into a leadership position within the next 5 years and my personal preference for a balanced work-life integration, how can I evaluate which job offer is the best overall choice?\"}, {'Task': 'Estimating Job Offer Chances', 'Description': 'Given a job, how do we estimate the chance of getting in?', 'Exemplar Question': 'With a Ph.D. in Computer Vision and experience interning at WeRide and Uber, what are my chances of securing a position at a major tech company like Google or Facebook as a machine learning engineer in the coming recruiting season?'}, {'Task': 'Identifying Gaps for Career Advancement', 'Description': \"This task aims to analyze a user's current experience against the desired end-goal position to identify critical skill gaps that need to be filled. By comparing the user's resume with those of individuals who have successfully transitioned to the target role, the system can suggest specific skills, certifications, or experiences needed.\", 'Exemplar Question': \"I'm a L5 software engineer at Amazon with 5 years of experience in web development, mainly using JavaScript and React. I aspire to advance to L6. What specific skills or experience should I focus on acquiring to make this transition more likely?\"}, {'Task': 'Networking Strategy Optimization', 'Description': \"This task focuses on optimizing a user's networking strategy by identifying influential professionals in their desired career path. By analyzing the career trajectories and connections of successful individuals in a specific field, it recommends whom to connect with, what kind of professional groups to join, and which conferences to attend.\", 'Exemplar Question': 'I am an aspiring biotech entrepreneur looking to start my own company in the next 5 years. Who are the key individuals I should connect with, and what professional groups or events should I prioritize to maximize my chances of success?'}, {'Task': 'Predicting Industry Trends and Their Impact on Careers', 'Description': 'This task aims to forecast emerging trends in various industries and their potential impact on job roles and skill requirements. Analyzing the career paths of individuals who have successfully adapted to industry changes in the past can offer predictions and recommendations for users to future-proof their careers.', 'Exemplar Question': 'With rapid advancements in artificial intelligence, how is the field of accounting expected to change in the next 5 years, and how can I prepare myself to remain relevant and competitive in this evolving landscape?'}]\n"
     ]
    }
   ],
   "source": [
    "rows = []\n",
    "for task in data.split('\\n\\n'):\n",
    "    task_dict = {}\n",
    "    for line in task.split('\\n'):\n",
    "        key, value = line.split(': ', 1)\n",
    "        task_dict[key] = value\n",
    "    rows.append(task_dict)\n",
    "print(rows)\n",
    "\n",
    "import json\n",
    "with open('typical_tasks.json', 'w') as file:\n",
    "    json.dump(rows, file, indent=4)"
   ]
  },
  {
   "cell_type": "markdown",
   "metadata": {},
   "source": [
    "## Asking GPT for more questions"
   ]
  },
  {
   "cell_type": "code",
   "execution_count": 48,
   "metadata": {},
   "outputs": [],
   "source": [
    "from openai import OpenAI\n",
    "from jinja2 import Environment, FileSystemLoader, select_autoescape\n",
    "\n",
    "jinja_environment = Environment(loader=FileSystemLoader('./'),\n",
    "                  autoescape=select_autoescape(), trim_blocks=True, lstrip_blocks=True, line_comment_prefix='#')\n",
    "\n",
    "template_file = 'templates/get_simulated_queries.jinja2'\n",
    "template = jinja_environment.get_template(template_file)\n",
    "client = OpenAI()\n",
    "\n",
    "with open('typical_tasks.json', 'r') as file:\n",
    "    data = json.load(file)\n",
    "\n",
    "for idx, row in enumerate(data[:3]):\n",
    "    print(row)\n",
    "    prompt_parameter_values = {\n",
    "        \"task_description\": row['Description'],\n",
    "        \"example_question\": row['Exemplar Question']\n",
    "    }\n",
    "    filled_prompt = template.render(**prompt_parameter_values)\n",
    "    print(filled_prompt)\n",
    "\n",
    "    kwargs = {\n",
    "        'messages': [{\"role\": \"system\", \"content\": filled_prompt}],\n",
    "        'model': 'gpt-4-0125-preview',\n",
    "        'max_tokens': 500,\n",
    "        'temperature': 0\n",
    "    }\n",
    "    ret = client.chat.completions.create(**kwargs)\n",
    "\n",
    "    def remove_json_prefix(json_str):\n",
    "        json_str = json_str.replace('```json\\n', '').replace('```', '')\n",
    "        return json_str\n",
    "\n",
    "    queries = json.loads(remove_json_prefix(ret.choices[0].message.content))\n",
    "    print('\\n'.join(queries))\n",
    "\n",
    "    data[idx]['simulated_queries'] = queries\n",
    "\n",
    "with open('typical_tasks_example_questions.json', 'w') as file:\n",
    "    json.dump(data, file, indent=4)"
   ]
  },
  {
   "cell_type": "markdown",
   "metadata": {},
   "source": [
    "# Asking GPT for variables and graph"
   ]
  },
  {
   "cell_type": "code",
   "execution_count": 4,
   "metadata": {},
   "outputs": [],
   "source": [
    "from openai import OpenAI\n",
    "from jinja2 import Environment, FileSystemLoader, select_autoescape\n",
    "import json\n",
    "from tqdm import tqdm\n",
    "\n",
    "jinja_environment = Environment(loader=FileSystemLoader('./'),\n",
    "                  autoescape=select_autoescape(), trim_blocks=True, lstrip_blocks=True, line_comment_prefix='#')\n",
    "\n",
    "template_file = 'templates/get_variables_and_graph.jinja2'\n",
    "template = jinja_environment.get_template(template_file)\n",
    "client = OpenAI()\n",
    "\n",
    "def extract_json(json_str):\n",
    "    if '```json' not in json_str:\n",
    "        return None\n",
    "    json_str = json_str.split('```json')[1]\n",
    "    if '```' not in json_str:\n",
    "        return None\n",
    "    json_str = json_str.split('```')[0]\n",
    "    return json_str\n",
    "\n",
    "\n",
    "def get_cost(ret):\n",
    "    return ret.usage.completion_tokens / 1e6 * 30 + ret.usage.prompt_tokens / 1e6 * 10\n",
    "\n",
    "\n",
    "def get_graph():\n",
    "    with open('typical_tasks_example_questions.json', 'r') as file:\n",
    "        data = json.load(file)\n",
    "\n",
    "    cost = 0\n",
    "    for idx, row in enumerate(data[:3]):\n",
    "        print(row)\n",
    "        res_graphs = []\n",
    "        for question in tqdm(row['simulated_queries']):\n",
    "\n",
    "            prompt_parameter_values = {\n",
    "                \"task_description\": row['Description'],\n",
    "                \"question\": question\n",
    "            }\n",
    "            filled_prompt = template.render(**prompt_parameter_values)\n",
    "\n",
    "            kwargs = {\n",
    "                'messages': [{\"role\": \"system\", \"content\": filled_prompt}],\n",
    "                'model': 'gpt-4-0125-preview',\n",
    "                'max_tokens': 1000,\n",
    "                'temperature': 0\n",
    "            }\n",
    "            \n",
    "            success = False\n",
    "            while not success:\n",
    "                try:\n",
    "                    print('attempting')\n",
    "                    ret = client.chat.completions.create(**kwargs)\n",
    "                    cost += get_cost(ret)\n",
    "\n",
    "                    raw_string = ret.choices[0].message.content\n",
    "                    graph = json.loads(extract_json(raw_string))\n",
    "                    reasoning = raw_string.split('REASONING:')[1]\n",
    "                    \n",
    "                    graph.append(reasoning)\n",
    "                    res_graphs.append(graph)\n",
    "                    success = True\n",
    "                except:\n",
    "                    pass\n",
    "\n",
    "        data[idx]['res_graphs'] = res_graphs\n",
    "\n",
    "        with open('typical_tasks_example_questions_graphs.json', 'w') as file:\n",
    "            json.dump(data, file, indent=4)\n",
    "        \n",
    "        print('cost:', cost)"
   ]
  },
  {
   "cell_type": "code",
   "execution_count": 5,
   "metadata": {},
   "outputs": [
    {
     "name": "stdout",
     "output_type": "stream",
     "text": [
      "{'Task': 'Curating a Career Plan', 'Description': 'Given a current career path and user preferences for an end-goal occupation, can we automatically curate a career plan that arrives at the end-goal occupation, with intermediate steps?', 'Exemplar Question': \"I'm a first-year master's student at Stanford CS. I did previous research internships at Microsoft and Amazon on Large Language Models. I have previous publications at NLP conferences including EMNLP, NAACL, and ACL. If I want to eventually work for OpenAI as a research scientist, how should I plan my career path to maximize the probability of landing the job?\", 'simulated_queries': [\"I'm a software engineer with 5 years of experience in Java and Python, currently working in a mid-sized tech company. I'm interested in transitioning to a data science role in a leading tech company like Google or Facebook. What steps should I take to make this transition successful?\", \"I have a bachelor's degree in marketing and have been working in digital marketing for 3 years at a startup. I aspire to become a Chief Marketing Officer (CMO) at a Fortune 500 company. What career path and additional skills or qualifications should I pursue to achieve this goal?\", \"I'm a recent graduate with a degree in mechanical engineering. I'm very interested in the renewable energy sector and want to work on wind turbine design. What experience and skills are necessary to enter this field, and how can I progress to a senior engineering position?\", \"I've been working as a financial analyst for a large bank for the past 7 years. I'm now looking to pivot my career towards fintech, specifically in blockchain and cryptocurrency. What knowledge and experience are crucial for this transition, and what companies should I target?\", \"I am a project manager with 10 years of experience in the construction industry. I'm aiming to shift my career towards technology project management, particularly in software development projects. What skills should I focus on acquiring, and what types of companies or projects would be the best fit for my transition?\"]}\n"
     ]
    },
    {
     "name": "stderr",
     "output_type": "stream",
     "text": [
      "  0%|          | 0/5 [00:00<?, ?it/s]"
     ]
    },
    {
     "name": "stdout",
     "output_type": "stream",
     "text": [
      "attempting\n"
     ]
    },
    {
     "name": "stderr",
     "output_type": "stream",
     "text": [
      " 20%|██        | 1/5 [00:23<01:32, 23.08s/it]"
     ]
    },
    {
     "name": "stdout",
     "output_type": "stream",
     "text": [
      "attempting\n"
     ]
    },
    {
     "name": "stderr",
     "output_type": "stream",
     "text": [
      " 40%|████      | 2/5 [00:58<01:31, 30.47s/it]"
     ]
    },
    {
     "name": "stdout",
     "output_type": "stream",
     "text": [
      "attempting\n"
     ]
    },
    {
     "name": "stderr",
     "output_type": "stream",
     "text": [
      " 60%|██████    | 3/5 [01:23<00:55, 27.85s/it]"
     ]
    },
    {
     "name": "stdout",
     "output_type": "stream",
     "text": [
      "attempting\n"
     ]
    },
    {
     "name": "stderr",
     "output_type": "stream",
     "text": [
      " 80%|████████  | 4/5 [01:47<00:26, 26.33s/it]"
     ]
    },
    {
     "name": "stdout",
     "output_type": "stream",
     "text": [
      "attempting\n"
     ]
    },
    {
     "name": "stderr",
     "output_type": "stream",
     "text": [
      "100%|██████████| 5/5 [02:11<00:00, 26.28s/it]\n"
     ]
    },
    {
     "name": "stdout",
     "output_type": "stream",
     "text": [
      "cost: 0.12432\n",
      "{'Task': 'Suggesting Potential Occupations and Wage Projections', 'Description': \"Given a user's interests, can we suggest potential occupations for the user and cast e.g. the wage for those occupations?\", 'Exemplar Question': \"I'm passionate about environmental sustainability and have a background in environmental science. What are some emerging green jobs that align with my interests, and what can I expect in terms of salary and job growth in these areas?\", 'simulated_queries': ['I have a degree in computer science and love coding. What are the most in-demand programming languages, and what kind of salary can I expect in jobs requiring these skills?', 'As someone with a strong background in finance and a keen interest in technology, what fintech roles are available that could leverage my skills, and what is the typical career progression in this field?', 'I am passionate about education and have experience teaching. What are the latest trends in educational technology, and how can I transition into an EdTech career, including expected salaries?', 'With a background in graphic design and a love for video games, what opportunities are there in game design for me, and what is the average income for these positions?', 'I have experience in healthcare and am interested in public health. What are the career opportunities in public health policy or administration, and what are the salary ranges and growth prospects in this sector?']}\n"
     ]
    },
    {
     "name": "stderr",
     "output_type": "stream",
     "text": [
      "  0%|          | 0/5 [00:00<?, ?it/s]"
     ]
    },
    {
     "name": "stdout",
     "output_type": "stream",
     "text": [
      "attempting\n"
     ]
    },
    {
     "name": "stderr",
     "output_type": "stream",
     "text": [
      " 20%|██        | 1/5 [00:19<01:19, 19.84s/it]"
     ]
    },
    {
     "name": "stdout",
     "output_type": "stream",
     "text": [
      "attempting\n"
     ]
    },
    {
     "name": "stderr",
     "output_type": "stream",
     "text": [
      " 40%|████      | 2/5 [00:41<01:02, 20.68s/it]"
     ]
    },
    {
     "name": "stdout",
     "output_type": "stream",
     "text": [
      "attempting\n"
     ]
    },
    {
     "name": "stderr",
     "output_type": "stream",
     "text": [
      " 60%|██████    | 3/5 [01:02<00:41, 20.87s/it]"
     ]
    },
    {
     "name": "stdout",
     "output_type": "stream",
     "text": [
      "attempting\n"
     ]
    },
    {
     "name": "stderr",
     "output_type": "stream",
     "text": [
      " 80%|████████  | 4/5 [01:24<00:21, 21.44s/it]"
     ]
    },
    {
     "name": "stdout",
     "output_type": "stream",
     "text": [
      "attempting\n"
     ]
    },
    {
     "name": "stderr",
     "output_type": "stream",
     "text": [
      "100%|██████████| 5/5 [01:48<00:00, 21.77s/it]\n"
     ]
    },
    {
     "name": "stdout",
     "output_type": "stream",
     "text": [
      "cost: 0.23399999999999999\n",
      "{'Task': 'Making Optimal Choices Among Alternatives', 'Description': 'Given a specific situation and a set of decision alternatives, how do we make optimal choices when given a set of alternatives in a decision?', 'Exemplar Question': \"I've received job offers from three different companies: Amazon AWS L4 SDE in Seattle, Meta Recommendation System E3 SDE in San Diego, and TikTok 1-2 MLE in New York. Considering my career goals of advancing into a leadership position within the next 5 years and my personal preference for a balanced work-life integration, how can I evaluate which job offer is the best overall choice?\", 'simulated_queries': [\"After working for 5 years as a software engineer at a mid-sized tech company, I'm considering either pursuing an MBA or joining a startup as a lead engineer. Given my long-term goal of becoming a CTO, how should I weigh these options?\", 'I have the opportunity to either stay in my current role as a project manager with a focus on domestic projects or take a new position abroad focusing on international projects. Considering my ambition to work in global operations, which option would better serve my career progression?', \"As a recent graduate with a degree in computer science, I'm torn between accepting a job offer from a well-established tech firm with a comprehensive training program and a higher-paying role at a smaller, less-known company. How do I decide which is more beneficial for my career growth in the long run?\", \"I've been offered two positions: one as a data analyst in a renowned e-commerce company and another as a business intelligence analyst in a fast-growing fintech startup. Given my interest in data science and aspiration to lead a data team, which position should I prioritize?\", 'Currently a senior graphic designer, I have the chance to either specialize further in UI/UX design at a leading design agency or transition into a product management role at a tech startup. Considering my goal to eventually direct product design strategy, which path is more aligned with my career objectives?']}\n"
     ]
    },
    {
     "name": "stderr",
     "output_type": "stream",
     "text": [
      "  0%|          | 0/5 [00:00<?, ?it/s]"
     ]
    },
    {
     "name": "stdout",
     "output_type": "stream",
     "text": [
      "attempting\n"
     ]
    },
    {
     "name": "stderr",
     "output_type": "stream",
     "text": [
      " 20%|██        | 1/5 [00:29<01:57, 29.42s/it]"
     ]
    },
    {
     "name": "stdout",
     "output_type": "stream",
     "text": [
      "attempting\n"
     ]
    },
    {
     "name": "stderr",
     "output_type": "stream",
     "text": [
      " 40%|████      | 2/5 [00:51<01:15, 25.23s/it]"
     ]
    },
    {
     "name": "stdout",
     "output_type": "stream",
     "text": [
      "attempting\n"
     ]
    },
    {
     "name": "stderr",
     "output_type": "stream",
     "text": [
      " 60%|██████    | 3/5 [01:20<00:53, 26.71s/it]"
     ]
    },
    {
     "name": "stdout",
     "output_type": "stream",
     "text": [
      "attempting\n"
     ]
    },
    {
     "name": "stderr",
     "output_type": "stream",
     "text": [
      " 80%|████████  | 4/5 [01:42<00:24, 24.81s/it]"
     ]
    },
    {
     "name": "stdout",
     "output_type": "stream",
     "text": [
      "attempting\n"
     ]
    },
    {
     "name": "stderr",
     "output_type": "stream",
     "text": [
      "100%|██████████| 5/5 [02:03<00:00, 24.75s/it]"
     ]
    },
    {
     "name": "stdout",
     "output_type": "stream",
     "text": [
      "cost: 0.35636\n"
     ]
    },
    {
     "name": "stderr",
     "output_type": "stream",
     "text": [
      "\n"
     ]
    }
   ],
   "source": [
    "get_graph()"
   ]
  },
  {
   "cell_type": "markdown",
   "metadata": {},
   "source": [
    "# Merge Graphs"
   ]
  },
  {
   "cell_type": "code",
   "execution_count": 8,
   "metadata": {},
   "outputs": [
    {
     "name": "stdout",
     "output_type": "stream",
     "text": [
      "{'Task': 'Curating a Career Plan', 'Description': 'Given a current career path and user preferences for an end-goal occupation, can we automatically curate a career plan that arrives at the end-goal occupation, with intermediate steps?', 'Exemplar Question': \"I'm a first-year master's student at Stanford CS. I did previous research internships at Microsoft and Amazon on Large Language Models. I have previous publications at NLP conferences including EMNLP, NAACL, and ACL. If I want to eventually work for OpenAI as a research scientist, how should I plan my career path to maximize the probability of landing the job?\", 'simulated_queries': [\"I'm a software engineer with 5 years of experience in Java and Python, currently working in a mid-sized tech company. I'm interested in transitioning to a data science role in a leading tech company like Google or Facebook. What steps should I take to make this transition successful?\", \"I have a bachelor's degree in marketing and have been working in digital marketing for 3 years at a startup. I aspire to become a Chief Marketing Officer (CMO) at a Fortune 500 company. What career path and additional skills or qualifications should I pursue to achieve this goal?\", \"I'm a recent graduate with a degree in mechanical engineering. I'm very interested in the renewable energy sector and want to work on wind turbine design. What experience and skills are necessary to enter this field, and how can I progress to a senior engineering position?\", \"I've been working as a financial analyst for a large bank for the past 7 years. I'm now looking to pivot my career towards fintech, specifically in blockchain and cryptocurrency. What knowledge and experience are crucial for this transition, and what companies should I target?\", \"I am a project manager with 10 years of experience in the construction industry. I'm aiming to shift my career towards technology project management, particularly in software development projects. What skills should I focus on acquiring, and what types of companies or projects would be the best fit for my transition?\"], 'res_graphs': [[{'Professional Networking': 'Building relationships with individuals in your desired field to gain insights, advice, and potential job opportunities.', 'Skill Development': 'Acquiring new skills or improving existing ones that are relevant to the target role.', 'Industry Knowledge': 'Understanding the trends, challenges, and opportunities within the target industry.', 'Project Experience': 'Gaining practical experience through projects that demonstrate relevant skills and knowledge.', 'Resume and LinkedIn Optimization': 'Enhancing your resume and LinkedIn profile to highlight relevant skills, experiences, and achievements.', 'Interview Preparation': 'Practicing and improving interview skills, specifically focusing on the target role and company.', 'Job Application': 'Applying for roles that match your skills and career aspirations.'}, [['Skill Development', 'Project Experience', 8], ['Skill Development', 'Resume and LinkedIn Optimization', 7], ['Professional Networking', 'Job Application', 6], ['Industry Knowledge', 'Interview Preparation', 7], ['Project Experience', 'Interview Preparation', 8], ['Resume and LinkedIn Optimization', 'Job Application', 9], ['Interview Preparation', 'Job Application', 8], ['Job Application', 'Data Science Role at Leading Tech Company', 7]], '\\n\\nThe causal graph starts with \"Skill Development\" and \"Professional Networking\" as foundational elements for transitioning to a data science role. Skill development is crucial for acquiring the technical skills needed in data science, such as machine learning, statistics, and data manipulation, which directly impacts the ability to undertake relevant \"Project Experience\" and enhance one\\'s \"Resume and LinkedIn Optimization\". The score of 8 for the transition from \"Skill Development\" to \"Project Experience\" reflects the high importance of practical experience in demonstrating one\\'s capabilities. The transition to \"Resume and LinkedIn Optimization\" is scored at 7, indicating its significant but slightly lesser importance compared to hands-on experience.\\n\\n\"Professional Networking\" is essential for uncovering job opportunities and gaining insights into the hiring process of leading tech companies, thus influencing the \"Job Application\" process with a score of 6. This reflects the importance of networking, though it\\'s slightly less deterministic than direct skill application.\\n\\n\"Industry Knowledge\" contributes to effective \"Interview Preparation\" by understanding the context in which data science operates within the target companies, scored at 7. This knowledge, combined with \"Project Experience\", which also significantly impacts \"Interview Preparation\" (score of 8), prepares the candidate for technical and behavioral interview questions.\\n\\n\"Resume and LinkedIn Optimization\" directly leads to a more effective \"Job Application\" process, scored at 9, highlighting the critical role of presenting one\\'s skills and experiences in a manner that resonates with recruiters and hiring managers.\\n\\nFinally, \"Interview Preparation\" significantly influences the success of the \"Job Application\" process, with a score of 8, indicating its crucial role in securing the job offer. The job application\\'s success, scored at 7 in leading to a \"Data Science Role at Leading Tech Company\", encapsulates the culmination of all prior steps, reflecting the complexity and challenge of transitioning into such a role but also the feasibility with the right preparation and opportunities.'], [{'Education Level': 'The highest level of education attained, which can influence eligibility for certain positions.', 'Work Experience': 'The amount and relevance of work experience in the marketing field.', 'Networking': 'Building professional relationships that can lead to job opportunities and career advice.', 'Industry Knowledge': 'Understanding of current trends, practices, and innovations in the marketing industry.', 'Leadership Skills': 'Ability to lead and manage teams effectively.', 'Strategic Thinking': \"Capability to develop long-term plans and visions for a company's marketing efforts.\", 'Communication Skills': 'Effectiveness in conveying ideas, both verbally and in writing.', 'Certifications': 'Additional qualifications specific to marketing or management that can enhance a resume.', 'Company Size': 'The size of the company where one works, which can impact the types of experiences and opportunities available.', 'CMO Position': 'The end goal of becoming a Chief Marketing Officer at a Fortune 500 company.'}, [['Education Level', 'Work Experience', 7], ['Work Experience', 'Networking', 8], ['Work Experience', 'Industry Knowledge', 9], ['Work Experience', 'Leadership Skills', 8], ['Networking', 'CMO Position', 6], ['Industry Knowledge', 'Strategic Thinking', 9], ['Leadership Skills', 'CMO Position', 8], ['Strategic Thinking', 'CMO Position', 7], ['Communication Skills', 'Leadership Skills', 7], ['Certifications', 'Industry Knowledge', 6], ['Company Size', 'CMO Position', 5]], \"\\n\\nThe causal graph is designed to reflect the multifaceted nature of career development towards becoming a Chief Marketing Officer (CMO) at a Fortune 500 company. \\n\\n- **Education Level to Work Experience (7):** A higher level of education, such as a bachelor's degree in marketing, is a strong foundation but its direct impact on acquiring higher-level positions diminishes over time, with work experience becoming more critical.\\n\\n- **Work Experience to Networking (8):** The more work experience one has, the more opportunities there are to build a professional network, which is crucial for career advancement.\\n\\n- **Work Experience to Industry Knowledge (9):** Direct experience in marketing roles significantly boosts one's understanding of the industry, which is essential for strategic decision-making in higher positions.\\n\\n- **Work Experience to Leadership Skills (8):** Practical work experience, especially in roles that involve team projects or management, directly contributes to developing leadership skills.\\n\\n- **Networking to CMO Position (6):** While networking is important, its direct impact on achieving a CMO position is less deterministic than other factors, as it primarily opens doors rather than builds skills.\\n\\n- **Industry Knowledge to Strategic Thinking (9):** A deep understanding of the marketing industry is crucial for developing effective long-term strategies, a key component of a CMO's role.\\n\\n- **Leadership Skills to CMO Position (8):** Strong leadership skills are essential for a CMO, who must manage diverse teams and lead strategic initiatives.\\n\\n- **Strategic Thinking to CMO Position (7):** The ability to think strategically is important for a CMO to contribute to the company's growth and adapt to changing market conditions.\\n\\n- **Communication Skills to Leadership Skills (7):** Effective communication is a foundational skill that supports leadership, enabling better team management and idea conveyance.\\n\\n- **Certifications to Industry Knowledge (6):** While certifications can enhance one's resume and provide specialized knowledge, their direct impact on understanding the broader industry is moderate.\\n\\n- **Company Size to CMO Position (5):** Working in larger companies can provide relevant experience for a CMO role in a Fortune 500 company, but it's not as directly impactful as the skills and experiences gained through the roles themselves.\"], [{'Education': 'Formal academic qualifications obtained.', 'Technical Skills': 'Specific technical knowledge or proficiencies related to a job.', 'Industry Experience': 'Practical experience working in a specific industry.', 'Networking': 'Building professional relationships that can offer advice, support, and opportunities.', 'Professional Certifications': 'Credentials that demonstrate a specific skill or knowledge area, often recognized industry-wide.', 'Project Management Skills': 'Ability to plan, execute, and oversee projects to completion.', 'Leadership Experience': 'Experience in leading teams or projects, demonstrating ability to manage and inspire others.', 'Senior Engineering Position': 'A high-level role involving oversight of projects and potentially leading a team of engineers.'}, [['Education', 'Technical Skills', 8], ['Education', 'Industry Experience', 7], ['Technical Skills', 'Professional Certifications', 7], ['Industry Experience', 'Networking', 6], ['Networking', 'Senior Engineering Position', 5], ['Professional Certifications', 'Project Management Skills', 6], ['Project Management Skills', 'Leadership Experience', 8], ['Leadership Experience', 'Senior Engineering Position', 9], ['Technical Skills', 'Senior Engineering Position', 4]], '\\n\\nThe causal graph starts with \"Education\" as a foundational variable, as formal academic qualifications are crucial in the field of mechanical engineering, especially for a specialized area like wind turbine design. Education directly influences the acquisition of \"Technical Skills\" necessary for the job, rated with a high score of 8, because specific knowledge in areas such as fluid dynamics, materials science, and CAD software is essential for designing wind turbines.\\n\\n\"Education\" also leads to \"Industry Experience\" with a score of 7, indicating that formal education often provides the initial opportunities for internships or entry-level positions in the renewable energy sector. This experience is vital for understanding the practical aspects of engineering work within the industry.\\n\\n\"Technical Skills\" are closely linked to \"Professional Certifications\" (score 7), as specialized certifications (e.g., in project management or renewable energy systems) can further validate an engineer\\'s expertise and are often sought by employers in the renewable energy sector.\\n\\n\"Industry Experience\" facilitates \"Networking\" (score 6), emphasizing the importance of building professional relationships within the renewable energy sector. These connections can lead to new opportunities and are crucial for career advancement.\\n\\n\"Networking\" has a moderate influence on reaching a \"Senior Engineering Position\" (score 5), indicating that while important, it\\'s not the only factor. Direct pathways to senior positions also include \"Technical Skills\" to \"Senior Engineering Position\" (score 4), showing that while technical skills are essential, they alone are not sufficient for advancement to senior roles without the support of other factors.\\n\\n\"Professional Certifications\" lead to \"Project Management Skills\" (score 6), as certifications often include training in project management, which is crucial for senior engineering roles that involve overseeing projects.\\n\\n\"Project Management Skills\" strongly influence \"Leadership Experience\" (score 8), as managing projects effectively often requires leading teams, making decisions, and demonstrating leadership qualities.\\n\\nFinally, \"Leadership Experience\" is the most direct and influential factor leading to a \"Senior Engineering Position\" (score 9), highlighting that the ability to lead, inspire, and manage teams is critical for attaining senior roles in engineering, especially in specialized fields like wind turbine design in the renewable energy sector.'], [{'Education': 'Formal academic qualifications or certifications relevant to the new field.', 'Industry Experience': 'Prior work experience in the relevant industry or closely related fields.', 'Networking': 'Building professional relationships within the target industry.', 'Skill Development': 'Acquiring new skills or improving existing ones pertinent to the target job.', 'Understanding of Blockchain': 'Comprehensive knowledge of blockchain technology and its applications.', 'Understanding of Cryptocurrency': 'In-depth knowledge of cryptocurrency markets, trading, and regulatory environment.', 'Project Experience': 'Hands-on experience with projects or tasks relevant to blockchain or cryptocurrency.', 'Target Companies': 'Identifying and targeting companies that align with career goals and values.'}, [['Education', 'Understanding of Blockchain', 8], ['Education', 'Understanding of Cryptocurrency', 7], ['Industry Experience', 'Networking', 6], ['Skill Development', 'Understanding of Blockchain', 9], ['Skill Development', 'Understanding of Cryptocurrency', 8], ['Networking', 'Project Experience', 7], ['Understanding of Blockchain', 'Project Experience', 8], ['Understanding of Cryptocurrency', 'Project Experience', 7], ['Project Experience', 'Target Companies', 9]], \"\\n\\nThe causal graph starts with foundational aspects such as Education and Industry Experience, which are crucial for anyone looking to pivot their career. Education directly influences one's understanding of both blockchain and cryptocurrency, as formal courses or certifications often provide the necessary theoretical background. The scores of 8 and 7, respectively, reflect the importance of education but also acknowledge that self-learning and practical experience can play significant roles.\\n\\nIndustry Experience is linked to Networking with a score of 6, indicating that while prior experience in a related field can make it easier to build professional connections, it's not the only way to network effectively.\\n\\nSkill Development is another critical variable, directly impacting one's understanding of blockchain and cryptocurrency with scores of 9 and 8. This highlights the importance of actively acquiring and improving relevant skills for career advancement.\\n\\nNetworking leads to Project Experience with a score of 7, suggesting that building professional relationships can open opportunities for hands-on experience in projects or tasks relevant to the target field.\\n\\nUnderstanding of Blockchain and Cryptocurrency both lead to Project Experience with scores of 8 and 7, indicating that a deep theoretical knowledge can significantly enhance the quality and relevance of one's practical experience.\\n\\nFinally, Project Experience directly influences the ability to target and appeal to companies in the fintech space, with a score of 9. This underscores the importance of practical, hands-on experience in securing a position in the desired field.\"], [{'Industry Knowledge': \"Understanding of the specific industry's trends, challenges, and practices.\", 'Technical Skills': 'Proficiency in specific technical tools and methodologies relevant to the job.', 'Project Management Experience': 'Years of experience and expertise in managing projects, including planning, execution, and team management.', 'Networking': 'Building professional relationships that can provide support, information, and opportunities.', 'Certifications': \"Professional certifications that validate one's skills and knowledge in a specific area.\", 'Adaptability': 'Ability to adjust to new environments, technologies, and challenges.', 'Company Fit': \"Alignment with a company's culture, values, and needs.\", 'Project Fit': 'Alignment with the requirements and challenges of a specific project.'}, [['Industry Knowledge', 'Technical Skills', 8], ['Technical Skills', 'Certifications', 7], ['Project Management Experience', 'Technical Skills', 6], ['Networking', 'Company Fit', 7], ['Networking', 'Project Fit', 6], ['Certifications', 'Company Fit', 5], ['Adaptability', 'Company Fit', 8], ['Adaptability', 'Project Fit', 7], ['Company Fit', 'Project Fit', 9]], \"\\n\\nThe causal graph is designed to reflect the transition from a project management role in the construction industry to a technology project management role, specifically in software development projects. \\n\\n- **Industry Knowledge to Technical Skills (8):** A strong understanding of technology trends, challenges, and practices is crucial for acquiring relevant technical skills. This relationship is rated highly because knowledge of the industry directly influences the type of technical skills one needs to focus on.\\n\\n- **Technical Skills to Certifications (7):** Acquiring technical skills often leads to pursuing certifications that validate these skills. While not all technical skills require certification, in the technology industry, certain certifications can significantly boost one's credibility and job prospects.\\n\\n- **Project Management Experience to Technical Skills (6):** Experience in project management provides a foundation for learning technical skills specific to software development projects. This relationship is significant but not as strong as others because project management skills are somewhat transferable across industries, but acquiring new technical skills may require substantial effort.\\n\\n- **Networking to Company Fit (7) and Project Fit (6):** Networking is crucial for understanding company cultures and project requirements, which can significantly influence one's ability to transition into a new role. Networking can directly lead to opportunities that are a good fit both in terms of company culture and project requirements.\\n\\n- **Certifications to Company Fit (5):** While certifications can enhance one's job prospects, their direct impact on fitting into a specific company's culture is less pronounced. Certifications are more about validating skills than ensuring cultural fit.\\n\\n- **Adaptability to Company Fit (8) and Project Fit (7):** The ability to adjust to new environments, technologies, and challenges is crucial for transitioning into a technology-focused role. Adaptability ensures that an individual can integrate well into a new company and adapt to the requirements of specific projects.\\n\\n- **Company Fit to Project Fit (9):** Finding a company that aligns with one's values and needs is crucial for working on projects that are a good fit. This relationship is rated the highest because a good match with the company culture and values is often a prerequisite for being assigned to suitable projects.\\n\\nThis causal graph outlines the key factors and their relationships in transitioning to a technology project management role, focusing on acquiring relevant skills, certifications, and understanding the importance of networking, adaptability, and alignment with company and project requirements.\"]]}\n",
      "filled_prompt: Imagine you are a causal analysis agent with access to a large resume corpus (~20 Million). You take career development questions from users and help them achieve their career goals by providing them with a causal graph of the career development process. \n",
      "\n",
      "Now, for a specific type of query, you have proposed some possible graphs. Your next task is to merge the possible graphs.\n",
      "\n",
      "The graphs follow this format: \n",
      "in each triple, there is 1) a dictionary of causal variables, in the format {name: explanation}, 2) a list of edges in the causal graph. [[start1, end1, score1], [start2, end2, score2], ... ], and 3) the reasoning behind this graph.\n",
      "\n",
      "When merging the graphs, you should merge the causal variables and edges. You should follow these principles:\n",
      "1. Keep only necessary nodes that provide practical value to the user, and merge the semantically close ones. For example, if you see \"Target Position\" and \"Target Job\", or \"Education Level\" and \"Education\", you should merge them into a single node. \n",
      "2. If a node is too specific to one question, you should consider merge it with nodes that are more general. For example, you should merge target jobs of different kind into a single \"Target Position\" node.\n",
      "3. Like when the graphs were first created, you will evaluate the strength of each causal relationship on a scale of 1-10, with 10 being most deterministic and 1 being the least. If there are multiple edges between two nodes that are same or semantically close, use your best judgement to obtain a new score.\n",
      "4. Make sure the graph is a DAG (Directed Acyclic Graph) as required by causal graphs.\n",
      "5. The graph should have the user's query goal as the end node (e.g., \"Target Position\" if the user is asking how to land a target position).\n",
      "\n",
      "After you have the merged causal graph, first return a JSON object, which is a list with two elements: 1) a dictionary of causal variables, in the format {name: explanation} and 2) a list of edges in the causal graph. [[start1, end1, score1], [start2, end2, score2], ... ]\n",
      "\n",
      "Then, return the reasoning behind this causal graph. Prefix the reasoning by \"REASONING:\" and a new line.\n",
      "\n",
      "The task description and graphs are the following:\n",
      "\n",
      "Task: Given a current career path and user preferences for an end-goal occupation, can we automatically curate a career plan that arrives at the end-goal occupation, with intermediate steps?\n",
      "\n",
      "Graphs: [[{'Professional Networking': 'Building relationships with individuals in your desired field to gain insights, advice, and potential job opportunities.', 'Skill Development': 'Acquiring new skills or improving existing ones that are relevant to the target role.', 'Industry Knowledge': 'Understanding the trends, challenges, and opportunities within the target industry.', 'Project Experience': 'Gaining practical experience through projects that demonstrate relevant skills and knowledge.', 'Resume and LinkedIn Optimization': 'Enhancing your resume and LinkedIn profile to highlight relevant skills, experiences, and achievements.', 'Interview Preparation': 'Practicing and improving interview skills, specifically focusing on the target role and company.', 'Job Application': 'Applying for roles that match your skills and career aspirations.'}, [['Skill Development', 'Project Experience', 8], ['Skill Development', 'Resume and LinkedIn Optimization', 7], ['Professional Networking', 'Job Application', 6], ['Industry Knowledge', 'Interview Preparation', 7], ['Project Experience', 'Interview Preparation', 8], ['Resume and LinkedIn Optimization', 'Job Application', 9], ['Interview Preparation', 'Job Application', 8], ['Job Application', 'Data Science Role at Leading Tech Company', 7]], '\\n\\nThe causal graph starts with \"Skill Development\" and \"Professional Networking\" as foundational elements for transitioning to a data science role. Skill development is crucial for acquiring the technical skills needed in data science, such as machine learning, statistics, and data manipulation, which directly impacts the ability to undertake relevant \"Project Experience\" and enhance one\\'s \"Resume and LinkedIn Optimization\". The score of 8 for the transition from \"Skill Development\" to \"Project Experience\" reflects the high importance of practical experience in demonstrating one\\'s capabilities. The transition to \"Resume and LinkedIn Optimization\" is scored at 7, indicating its significant but slightly lesser importance compared to hands-on experience.\\n\\n\"Professional Networking\" is essential for uncovering job opportunities and gaining insights into the hiring process of leading tech companies, thus influencing the \"Job Application\" process with a score of 6. This reflects the importance of networking, though it\\'s slightly less deterministic than direct skill application.\\n\\n\"Industry Knowledge\" contributes to effective \"Interview Preparation\" by understanding the context in which data science operates within the target companies, scored at 7. This knowledge, combined with \"Project Experience\", which also significantly impacts \"Interview Preparation\" (score of 8), prepares the candidate for technical and behavioral interview questions.\\n\\n\"Resume and LinkedIn Optimization\" directly leads to a more effective \"Job Application\" process, scored at 9, highlighting the critical role of presenting one\\'s skills and experiences in a manner that resonates with recruiters and hiring managers.\\n\\nFinally, \"Interview Preparation\" significantly influences the success of the \"Job Application\" process, with a score of 8, indicating its crucial role in securing the job offer. The job application\\'s success, scored at 7 in leading to a \"Data Science Role at Leading Tech Company\", encapsulates the culmination of all prior steps, reflecting the complexity and challenge of transitioning into such a role but also the feasibility with the right preparation and opportunities.'], [{'Education Level': 'The highest level of education attained, which can influence eligibility for certain positions.', 'Work Experience': 'The amount and relevance of work experience in the marketing field.', 'Networking': 'Building professional relationships that can lead to job opportunities and career advice.', 'Industry Knowledge': 'Understanding of current trends, practices, and innovations in the marketing industry.', 'Leadership Skills': 'Ability to lead and manage teams effectively.', 'Strategic Thinking': \"Capability to develop long-term plans and visions for a company's marketing efforts.\", 'Communication Skills': 'Effectiveness in conveying ideas, both verbally and in writing.', 'Certifications': 'Additional qualifications specific to marketing or management that can enhance a resume.', 'Company Size': 'The size of the company where one works, which can impact the types of experiences and opportunities available.', 'CMO Position': 'The end goal of becoming a Chief Marketing Officer at a Fortune 500 company.'}, [['Education Level', 'Work Experience', 7], ['Work Experience', 'Networking', 8], ['Work Experience', 'Industry Knowledge', 9], ['Work Experience', 'Leadership Skills', 8], ['Networking', 'CMO Position', 6], ['Industry Knowledge', 'Strategic Thinking', 9], ['Leadership Skills', 'CMO Position', 8], ['Strategic Thinking', 'CMO Position', 7], ['Communication Skills', 'Leadership Skills', 7], ['Certifications', 'Industry Knowledge', 6], ['Company Size', 'CMO Position', 5]], \"\\n\\nThe causal graph is designed to reflect the multifaceted nature of career development towards becoming a Chief Marketing Officer (CMO) at a Fortune 500 company. \\n\\n- **Education Level to Work Experience (7):** A higher level of education, such as a bachelor's degree in marketing, is a strong foundation but its direct impact on acquiring higher-level positions diminishes over time, with work experience becoming more critical.\\n\\n- **Work Experience to Networking (8):** The more work experience one has, the more opportunities there are to build a professional network, which is crucial for career advancement.\\n\\n- **Work Experience to Industry Knowledge (9):** Direct experience in marketing roles significantly boosts one's understanding of the industry, which is essential for strategic decision-making in higher positions.\\n\\n- **Work Experience to Leadership Skills (8):** Practical work experience, especially in roles that involve team projects or management, directly contributes to developing leadership skills.\\n\\n- **Networking to CMO Position (6):** While networking is important, its direct impact on achieving a CMO position is less deterministic than other factors, as it primarily opens doors rather than builds skills.\\n\\n- **Industry Knowledge to Strategic Thinking (9):** A deep understanding of the marketing industry is crucial for developing effective long-term strategies, a key component of a CMO's role.\\n\\n- **Leadership Skills to CMO Position (8):** Strong leadership skills are essential for a CMO, who must manage diverse teams and lead strategic initiatives.\\n\\n- **Strategic Thinking to CMO Position (7):** The ability to think strategically is important for a CMO to contribute to the company's growth and adapt to changing market conditions.\\n\\n- **Communication Skills to Leadership Skills (7):** Effective communication is a foundational skill that supports leadership, enabling better team management and idea conveyance.\\n\\n- **Certifications to Industry Knowledge (6):** While certifications can enhance one's resume and provide specialized knowledge, their direct impact on understanding the broader industry is moderate.\\n\\n- **Company Size to CMO Position (5):** Working in larger companies can provide relevant experience for a CMO role in a Fortune 500 company, but it's not as directly impactful as the skills and experiences gained through the roles themselves.\"], [{'Education': 'Formal academic qualifications obtained.', 'Technical Skills': 'Specific technical knowledge or proficiencies related to a job.', 'Industry Experience': 'Practical experience working in a specific industry.', 'Networking': 'Building professional relationships that can offer advice, support, and opportunities.', 'Professional Certifications': 'Credentials that demonstrate a specific skill or knowledge area, often recognized industry-wide.', 'Project Management Skills': 'Ability to plan, execute, and oversee projects to completion.', 'Leadership Experience': 'Experience in leading teams or projects, demonstrating ability to manage and inspire others.', 'Senior Engineering Position': 'A high-level role involving oversight of projects and potentially leading a team of engineers.'}, [['Education', 'Technical Skills', 8], ['Education', 'Industry Experience', 7], ['Technical Skills', 'Professional Certifications', 7], ['Industry Experience', 'Networking', 6], ['Networking', 'Senior Engineering Position', 5], ['Professional Certifications', 'Project Management Skills', 6], ['Project Management Skills', 'Leadership Experience', 8], ['Leadership Experience', 'Senior Engineering Position', 9], ['Technical Skills', 'Senior Engineering Position', 4]], '\\n\\nThe causal graph starts with \"Education\" as a foundational variable, as formal academic qualifications are crucial in the field of mechanical engineering, especially for a specialized area like wind turbine design. Education directly influences the acquisition of \"Technical Skills\" necessary for the job, rated with a high score of 8, because specific knowledge in areas such as fluid dynamics, materials science, and CAD software is essential for designing wind turbines.\\n\\n\"Education\" also leads to \"Industry Experience\" with a score of 7, indicating that formal education often provides the initial opportunities for internships or entry-level positions in the renewable energy sector. This experience is vital for understanding the practical aspects of engineering work within the industry.\\n\\n\"Technical Skills\" are closely linked to \"Professional Certifications\" (score 7), as specialized certifications (e.g., in project management or renewable energy systems) can further validate an engineer\\'s expertise and are often sought by employers in the renewable energy sector.\\n\\n\"Industry Experience\" facilitates \"Networking\" (score 6), emphasizing the importance of building professional relationships within the renewable energy sector. These connections can lead to new opportunities and are crucial for career advancement.\\n\\n\"Networking\" has a moderate influence on reaching a \"Senior Engineering Position\" (score 5), indicating that while important, it\\'s not the only factor. Direct pathways to senior positions also include \"Technical Skills\" to \"Senior Engineering Position\" (score 4), showing that while technical skills are essential, they alone are not sufficient for advancement to senior roles without the support of other factors.\\n\\n\"Professional Certifications\" lead to \"Project Management Skills\" (score 6), as certifications often include training in project management, which is crucial for senior engineering roles that involve overseeing projects.\\n\\n\"Project Management Skills\" strongly influence \"Leadership Experience\" (score 8), as managing projects effectively often requires leading teams, making decisions, and demonstrating leadership qualities.\\n\\nFinally, \"Leadership Experience\" is the most direct and influential factor leading to a \"Senior Engineering Position\" (score 9), highlighting that the ability to lead, inspire, and manage teams is critical for attaining senior roles in engineering, especially in specialized fields like wind turbine design in the renewable energy sector.'], [{'Education': 'Formal academic qualifications or certifications relevant to the new field.', 'Industry Experience': 'Prior work experience in the relevant industry or closely related fields.', 'Networking': 'Building professional relationships within the target industry.', 'Skill Development': 'Acquiring new skills or improving existing ones pertinent to the target job.', 'Understanding of Blockchain': 'Comprehensive knowledge of blockchain technology and its applications.', 'Understanding of Cryptocurrency': 'In-depth knowledge of cryptocurrency markets, trading, and regulatory environment.', 'Project Experience': 'Hands-on experience with projects or tasks relevant to blockchain or cryptocurrency.', 'Target Companies': 'Identifying and targeting companies that align with career goals and values.'}, [['Education', 'Understanding of Blockchain', 8], ['Education', 'Understanding of Cryptocurrency', 7], ['Industry Experience', 'Networking', 6], ['Skill Development', 'Understanding of Blockchain', 9], ['Skill Development', 'Understanding of Cryptocurrency', 8], ['Networking', 'Project Experience', 7], ['Understanding of Blockchain', 'Project Experience', 8], ['Understanding of Cryptocurrency', 'Project Experience', 7], ['Project Experience', 'Target Companies', 9]], \"\\n\\nThe causal graph starts with foundational aspects such as Education and Industry Experience, which are crucial for anyone looking to pivot their career. Education directly influences one's understanding of both blockchain and cryptocurrency, as formal courses or certifications often provide the necessary theoretical background. The scores of 8 and 7, respectively, reflect the importance of education but also acknowledge that self-learning and practical experience can play significant roles.\\n\\nIndustry Experience is linked to Networking with a score of 6, indicating that while prior experience in a related field can make it easier to build professional connections, it's not the only way to network effectively.\\n\\nSkill Development is another critical variable, directly impacting one's understanding of blockchain and cryptocurrency with scores of 9 and 8. This highlights the importance of actively acquiring and improving relevant skills for career advancement.\\n\\nNetworking leads to Project Experience with a score of 7, suggesting that building professional relationships can open opportunities for hands-on experience in projects or tasks relevant to the target field.\\n\\nUnderstanding of Blockchain and Cryptocurrency both lead to Project Experience with scores of 8 and 7, indicating that a deep theoretical knowledge can significantly enhance the quality and relevance of one's practical experience.\\n\\nFinally, Project Experience directly influences the ability to target and appeal to companies in the fintech space, with a score of 9. This underscores the importance of practical, hands-on experience in securing a position in the desired field.\"], [{'Industry Knowledge': \"Understanding of the specific industry's trends, challenges, and practices.\", 'Technical Skills': 'Proficiency in specific technical tools and methodologies relevant to the job.', 'Project Management Experience': 'Years of experience and expertise in managing projects, including planning, execution, and team management.', 'Networking': 'Building professional relationships that can provide support, information, and opportunities.', 'Certifications': \"Professional certifications that validate one's skills and knowledge in a specific area.\", 'Adaptability': 'Ability to adjust to new environments, technologies, and challenges.', 'Company Fit': \"Alignment with a company's culture, values, and needs.\", 'Project Fit': 'Alignment with the requirements and challenges of a specific project.'}, [['Industry Knowledge', 'Technical Skills', 8], ['Technical Skills', 'Certifications', 7], ['Project Management Experience', 'Technical Skills', 6], ['Networking', 'Company Fit', 7], ['Networking', 'Project Fit', 6], ['Certifications', 'Company Fit', 5], ['Adaptability', 'Company Fit', 8], ['Adaptability', 'Project Fit', 7], ['Company Fit', 'Project Fit', 9]], \"\\n\\nThe causal graph is designed to reflect the transition from a project management role in the construction industry to a technology project management role, specifically in software development projects. \\n\\n- **Industry Knowledge to Technical Skills (8):** A strong understanding of technology trends, challenges, and practices is crucial for acquiring relevant technical skills. This relationship is rated highly because knowledge of the industry directly influences the type of technical skills one needs to focus on.\\n\\n- **Technical Skills to Certifications (7):** Acquiring technical skills often leads to pursuing certifications that validate these skills. While not all technical skills require certification, in the technology industry, certain certifications can significantly boost one's credibility and job prospects.\\n\\n- **Project Management Experience to Technical Skills (6):** Experience in project management provides a foundation for learning technical skills specific to software development projects. This relationship is significant but not as strong as others because project management skills are somewhat transferable across industries, but acquiring new technical skills may require substantial effort.\\n\\n- **Networking to Company Fit (7) and Project Fit (6):** Networking is crucial for understanding company cultures and project requirements, which can significantly influence one's ability to transition into a new role. Networking can directly lead to opportunities that are a good fit both in terms of company culture and project requirements.\\n\\n- **Certifications to Company Fit (5):** While certifications can enhance one's job prospects, their direct impact on fitting into a specific company's culture is less pronounced. Certifications are more about validating skills than ensuring cultural fit.\\n\\n- **Adaptability to Company Fit (8) and Project Fit (7):** The ability to adjust to new environments, technologies, and challenges is crucial for transitioning into a technology-focused role. Adaptability ensures that an individual can integrate well into a new company and adapt to the requirements of specific projects.\\n\\n- **Company Fit to Project Fit (9):** Finding a company that aligns with one's values and needs is crucial for working on projects that are a good fit. This relationship is rated the highest because a good match with the company culture and values is often a prerequisite for being assigned to suitable projects.\\n\\nThis causal graph outlines the key factors and their relationships in transitioning to a technology project management role, focusing on acquiring relevant skills, certifications, and understanding the importance of networking, adaptability, and alignment with company and project requirements.\"]]\n",
      "attempting\n",
      "cost: 0.08241000000000001\n"
     ]
    }
   ],
   "source": [
    "from openai import OpenAI\n",
    "from jinja2 import Environment, FileSystemLoader, select_autoescape\n",
    "import json\n",
    "\n",
    "jinja_environment = Environment(loader=FileSystemLoader('./'),\n",
    "                  autoescape=select_autoescape(), trim_blocks=True, lstrip_blocks=True, line_comment_prefix='#')\n",
    "\n",
    "template_file = 'templates/merge_graphs.jinja2'\n",
    "template = jinja_environment.get_template(template_file)\n",
    "client = OpenAI()\n",
    "\n",
    "def extract_json(json_str):\n",
    "    if '```json' not in json_str:\n",
    "        return None\n",
    "    json_str = json_str.split('```json')[1]\n",
    "    if '```' not in json_str:\n",
    "        return None\n",
    "    json_str = json_str.split('```')[0]\n",
    "    return json_str\n",
    "\n",
    "\n",
    "def get_cost(ret):\n",
    "    return ret.usage.completion_tokens / 1e6 * 30 + ret.usage.prompt_tokens / 1e6 * 10\n",
    "\n",
    "\n",
    "def merge_graph():\n",
    "    with open('typical_tasks_example_questions_graphs.json', 'r') as file:\n",
    "        data = json.load(file)\n",
    "\n",
    "    cost = 0\n",
    "    for idx, row in enumerate(data[:3]):\n",
    "        print(row)\n",
    "        prompt_parameter_values = {\n",
    "            \"task_description\": row['Description'],\n",
    "            \"graphs\": row['res_graphs']\n",
    "        }\n",
    "        filled_prompt = template.render(**prompt_parameter_values)\n",
    "\n",
    "        print('filled_prompt:', filled_prompt)\n",
    "\n",
    "        kwargs = {\n",
    "            'messages': [{\"role\": \"system\", \"content\": filled_prompt}],\n",
    "            'model': 'gpt-4-0125-preview',\n",
    "            'max_tokens': 4096,\n",
    "            'temperature': 0\n",
    "        }\n",
    "\n",
    "        success = False\n",
    "        while not success:\n",
    "            try:\n",
    "                print('attempting')\n",
    "        \n",
    "                ret = client.chat.completions.create(**kwargs)\n",
    "                cost += get_cost(ret)\n",
    "\n",
    "                raw_string = ret.choices[0].message.content\n",
    "                graph = json.loads(extract_json(raw_string))\n",
    "                reasoning = raw_string.split('REASONING:')[1]\n",
    "                \n",
    "                graph.append(reasoning)\n",
    "                success = True\n",
    "            except:\n",
    "                pass\n",
    "\n",
    "        data[idx]['merged_graphs'] = graph\n",
    "\n",
    "        with open('typical_tasks_example_questions_graphs_merged.json', 'w') as file:\n",
    "            json.dump(data, file, indent=4)\n",
    "        \n",
    "        print('cost:', cost)\n",
    "\n",
    "merge_graph()"
   ]
  },
  {
   "cell_type": "code",
   "execution_count": null,
   "metadata": {},
   "outputs": [],
   "source": []
  },
  {
   "cell_type": "code",
   "execution_count": null,
   "metadata": {},
   "outputs": [],
   "source": []
  },
  {
   "cell_type": "code",
   "execution_count": null,
   "metadata": {},
   "outputs": [],
   "source": []
  }
 ],
 "metadata": {
  "kernelspec": {
   "display_name": "hybrid",
   "language": "python",
   "name": "python3"
  },
  "language_info": {
   "codemirror_mode": {
    "name": "ipython",
    "version": 3
   },
   "file_extension": ".py",
   "mimetype": "text/x-python",
   "name": "python",
   "nbconvert_exporter": "python",
   "pygments_lexer": "ipython3",
   "version": "3.9.18"
  }
 },
 "nbformat": 4,
 "nbformat_minor": 2
}
